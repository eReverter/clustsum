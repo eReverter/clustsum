{
 "cells": [
  {
   "cell_type": "code",
   "execution_count": 1,
   "metadata": {},
   "outputs": [
    {
     "ename": "ImportError",
     "evalue": "cannot import name 'clustsum_batched' from 'src.clustsum' (/home/ereverter/projects/clustsum/src/clustsum.py)",
     "output_type": "error",
     "traceback": [
      "\u001b[0;31m---------------------------------------------------------------------------\u001b[0m",
      "\u001b[0;31mImportError\u001b[0m                               Traceback (most recent call last)",
      "Cell \u001b[0;32mIn[1], line 5\u001b[0m\n\u001b[1;32m      3\u001b[0m \u001b[39mfrom\u001b[39;00m \u001b[39mdatasets\u001b[39;00m\u001b[39m.\u001b[39;00m\u001b[39mutils\u001b[39;00m\u001b[39m.\u001b[39;00m\u001b[39mlogging\u001b[39;00m \u001b[39mimport\u001b[39;00m disable_progress_bar\n\u001b[1;32m      4\u001b[0m \u001b[39mimport\u001b[39;00m \u001b[39mevaluate\u001b[39;00m\n\u001b[0;32m----> 5\u001b[0m \u001b[39mfrom\u001b[39;00m \u001b[39msrc\u001b[39;00m\u001b[39m.\u001b[39;00m\u001b[39mclustsum\u001b[39;00m \u001b[39mimport\u001b[39;00m clustsum, clustsum_batched\n\u001b[1;32m      6\u001b[0m \u001b[39mfrom\u001b[39;00m \u001b[39msrc\u001b[39;00m\u001b[39m.\u001b[39;00m\u001b[39membeddings\u001b[39;00m \u001b[39mimport\u001b[39;00m forward_fn_pooler, forward_fn_cls\n\u001b[1;32m      7\u001b[0m \u001b[39mimport\u001b[39;00m \u001b[39mtorch\u001b[39;00m\n",
      "\u001b[0;31mImportError\u001b[0m: cannot import name 'clustsum_batched' from 'src.clustsum' (/home/ereverter/projects/clustsum/src/clustsum.py)"
     ]
    }
   ],
   "source": [
    "import argparse\n",
    "from datasets import load_dataset\n",
    "from datasets.utils.logging import disable_progress_bar\n",
    "import evaluate\n",
    "from src.clustsum import clustsum\n",
    "from src.embeddings import forward_fn_pooler, forward_fn_cls\n",
    "import torch\n",
    "import time\n",
    "from tqdm import tqdm\n",
    "from transformers import AutoTokenizer, AutoModel\n",
    "\n",
    "disable_progress_bar()\n",
    "\n",
    "from src.config import Configuration\n",
    "args = Configuration()\n",
    "args.sum_size = 3\n",
    "args.device = 'cuda'\n",
    "args.subset = 500\n",
    "args.method = 'compression'\n",
    "\n",
    "batch_size = 4\n",
    "\n",
    "def process_batched(texts, method, args, tokenizer=None, model=None, forward_fn=None, return_scores=False):\n",
    "    summaries = []\n",
    "    for batch in tqdm(texts, desc=\"Processing batches\"):\n",
    "        sents_list = clustsum(batch, method, args, tokenizer=tokenizer, model=model, forward_fn=forward_fn, return_scores=return_scores)\n",
    "        for sents in sents_list:\n",
    "            summaries.append('. '.join(sents[:args.sum_size]))\n",
    "    return summaries\n",
    "\n",
    "# Load the CNN/DailyMail dataset\n",
    "dataset = load_dataset('cnn_dailymail', '3.0.0', split='test')\n",
    "text_column = 'article'\n",
    "summary_column = 'highlights'\n",
    "\n",
    "# Subset the dataset\n",
    "if args.subset > 0:\n",
    "    dataset = dataset.select(range(args.subset))\n",
    "\n",
    "# Get the summaries\n",
    "print(f\"Getting the summaries with the {args.method}...\")\n",
    "summaries = []\n",
    "start_time = time.time()\n",
    "if args.method == 'transformer':\n",
    "\n",
    "    # Load the tokenizer and model\n",
    "    tokenizer = AutoTokenizer.from_pretrained(args.checkpoint)\n",
    "    model = AutoModel.from_pretrained(args.checkpoint)\n",
    "\n",
    "    # Set the device\n",
    "    model.to(args.device)\n",
    "\n",
    "    # Set the forward function\n",
    "    if args.embedding_from == 'pooler':\n",
    "        forward_fn = forward_fn_pooler\n",
    "    elif args.embedding_from == 'cls':\n",
    "        forward_fn = forward_fn_cls\n",
    "    else:\n",
    "        raise Exception(\"Please provide a valid method for the forward pass.\")\n",
    "\n",
    "    # Get the summaries in a batched manner\n",
    "    summaries = []\n",
    "    batches = [dataset[i:i+batch_size][text_column] for i in range(0, len(dataset), batch_size)]\n",
    "    summaries = process_batched(batches, 'transformer', args, tokenizer=tokenizer, model=model, forward_fn=forward_fn, return_scores=False)\n",
    "\n",
    "\n",
    "elif args.method == 'compression':\n",
    "    sents = clustsum(dataset[text_column], 'compression', return_scores=False)\n",
    "    summaries = ['. '.join(sents[i][:args.sum_size]) for i in range(len(sents))]\n",
    "\n",
    "else:\n",
    "    raise Exception(\"Please provide a valid method, either 'transformer' or 'compression'.\")\n",
    "end_time = time.time()\n",
    "# Compute the ROUGE scores\n",
    "print(\"Computing the ROUGE scores...\")\n",
    "rouge = evaluate.load('rouge')\n",
    "scores = rouge.compute(predictions=summaries, references=dataset[summary_column], use_aggregator =True)\n",
    "\n",
    "# Print the results\n",
    "print(f\"ROUGE-1: {scores['rouge1']}\")\n",
    "print(f\"ROUGE-2: {scores['rouge2']}\")\n",
    "print(f\"ROUGE-L: {scores['rougeL']}\")\n",
    "print(f\"Time elapsed: {end_time - start_time} seconds.\")"
   ]
  },
  {
   "cell_type": "code",
   "execution_count": null,
   "metadata": {},
   "outputs": [],
   "source": [
    "# ROUGE-1: 0.26491231863673464\n",
    "# ROUGE-2: 0.0899528567537094\n",
    "# ROUGE-L: 0.18028466915316618\n",
    "# Time elapsed: 53.298954486846924 seconds."
   ]
  },
  {
   "cell_type": "code",
   "execution_count": null,
   "metadata": {},
   "outputs": [],
   "source": [
    "import gzip\n",
    "from joblib import Parallel, delayed\n",
    "import torch\n",
    "\n",
    "def get_distance(s1, s2, cs1, cs2):\n",
    "    lcs1 = len(cs1)\n",
    "    lcs2 = len(cs2)\n",
    "    lcss = len(get_compression(' '.join([s1, s2])))\n",
    "    return (lcss - min(lcs1, lcs2)) / max(lcs1, lcs2)\n",
    "\n",
    "def get_compression(sent):\n",
    "    return gzip.compress(sent.encode('utf-8'))\n",
    "\n",
    "def compute_sample_distances(samples_chunk):\n",
    "    return [compute_single_sample_distance(sample) for sample in samples_chunk]\n",
    "\n",
    "def compute_single_sample_distance(sample):\n",
    "    compressions = [get_compression(s) for s in sample]\n",
    "    n = len(sample)\n",
    "    distances_2d = [[get_distance(sample[i], sample[j], compressions[i], compressions[j]) for j in range(n)] for i in range(n)]\n",
    "    return distances_2d\n",
    "\n",
    "def get_compression_distance(samples):\n",
    "    n_cores = -1  # this uses all the available cores\n",
    "    n_samples = len(samples)\n",
    "    \n",
    "    # Here, samples is a list of list of sentences\n",
    "    # Split samples into chunks for each core\n",
    "    chunk_size = n_samples // abs(n_cores) if n_cores != 0 else n_samples\n",
    "    samples_chunks = [samples[i:i+chunk_size] for i in range(0, n_samples, chunk_size)]\n",
    "    \n",
    "    results = Parallel(n_jobs=n_cores)(delayed(compute_sample_distances)(samples_chunk) for samples_chunk in samples_chunks)\n",
    "\n",
    "    # Flatten the results back into a list\n",
    "    results = [item for sublist in results for item in sublist]\n",
    "    \n",
    "    # Convert each result to a torch tensor\n",
    "    tensors = [torch.tensor(distances_2d, dtype=torch.float) for distances_2d in results]\n",
    "\n",
    "    return tensors\n",
    "\n",
    "# Example usage\n",
    "samples = [[\"some strings\", \"to test\", \"gzip compression\"], [\"another text\", \"for testing\"]]\n",
    "print(get_compression_distance(samples))\n"
   ]
  },
  {
   "cell_type": "code",
   "execution_count": 6,
   "metadata": {},
   "outputs": [
    {
     "name": "stderr",
     "output_type": "stream",
     "text": [
      "Some weights of the model checkpoint at bert-base-uncased were not used when initializing BertModel: ['cls.seq_relationship.weight', 'cls.predictions.bias', 'cls.seq_relationship.bias', 'cls.predictions.transform.LayerNorm.bias', 'cls.predictions.transform.LayerNorm.weight', 'cls.predictions.decoder.weight', 'cls.predictions.transform.dense.bias', 'cls.predictions.transform.dense.weight']\n",
      "- This IS expected if you are initializing BertModel from the checkpoint of a model trained on another task or with another architecture (e.g. initializing a BertForSequenceClassification model from a BertForPreTraining model).\n",
      "- This IS NOT expected if you are initializing BertModel from the checkpoint of a model that you expect to be exactly identical (initializing a BertForSequenceClassification model from a BertForSequenceClassification model).\n"
     ]
    }
   ],
   "source": [
    "from src.embeddings import get_batched_embeddings\n",
    "from transformers import AutoTokenizer, AutoModel\n",
    "from src.embeddings import forward_fn_pooler\n",
    "from src.config import Configuration\n",
    "    \n",
    "config = Configuration()\n",
    "tokenizer = AutoTokenizer.from_pretrained('bert-base-uncased')\n",
    "model = AutoModel.from_pretrained('bert-base-uncased')\n",
    "\n",
    "sents = [['This is a sentence.', 'This is another sentence.'], ['This is a third sentence.', 'This is a fourth sentence.', 'This is a fifth sentence.']]\n",
    "x = get_batched_embeddings(sents, tokenizer, model, forward_fn_pooler, config)"
   ]
  },
  {
   "cell_type": "code",
   "execution_count": 7,
   "metadata": {},
   "outputs": [
    {
     "data": {
      "text/plain": [
       "(tensor([[-0.9458, -0.4702, -0.8006,  ..., -0.7225, -0.6905,  0.9400],\n",
       "         [-0.9115, -0.4632, -0.6918,  ..., -0.4507, -0.6873,  0.9250]]),\n",
       " tensor([[-0.8959, -0.4844, -0.7792,  ..., -0.6493, -0.7214,  0.8954],\n",
       "         [-0.9014, -0.4858, -0.7883,  ..., -0.6132, -0.7288,  0.8970]]))"
      ]
     },
     "execution_count": 7,
     "metadata": {},
     "output_type": "execute_result"
    }
   ],
   "source": [
    "x"
   ]
  },
  {
   "cell_type": "code",
   "execution_count": 1,
   "metadata": {},
   "outputs": [],
   "source": [
    "from src.embeddings import get_compression_distance\n",
    "\n",
    "sents = [['This is a sentence.', 'This is another sentence.'], ['This is a third sentence.', 'This is a fourth sentence.', 'This is a fifth sentence.']]\n",
    "y = get_compression_distance(sents)"
   ]
  },
  {
   "cell_type": "code",
   "execution_count": 2,
   "metadata": {},
   "outputs": [
    {
     "data": {
      "text/plain": [
       "[tensor([[0.1081, 0.2791],\n",
       "         [0.2791, 0.0930]]),\n",
       " tensor([[0.0930, 0.2727, 0.2558],\n",
       "         [0.2727, 0.0909, 0.2045],\n",
       "         [0.2558, 0.2045, 0.0930]])]"
      ]
     },
     "execution_count": 2,
     "metadata": {},
     "output_type": "execute_result"
    }
   ],
   "source": [
    "y"
   ]
  },
  {
   "cell_type": "code",
   "execution_count": 5,
   "metadata": {},
   "outputs": [
    {
     "ename": "TypeError",
     "evalue": "'generator' object is not subscriptable",
     "output_type": "error",
     "traceback": [
      "\u001b[0;31m---------------------------------------------------------------------------\u001b[0m",
      "\u001b[0;31mTypeError\u001b[0m                                 Traceback (most recent call last)",
      "Cell \u001b[0;32mIn[5], line 1\u001b[0m\n\u001b[0;32m----> 1\u001b[0m y[\u001b[39m0\u001b[39;49m]\u001b[39m.\u001b[39mshape\n",
      "\u001b[0;31mTypeError\u001b[0m: 'generator' object is not subscriptable"
     ]
    }
   ],
   "source": [
    "y[0].shape"
   ]
  },
  {
   "cell_type": "code",
   "execution_count": 1,
   "metadata": {},
   "outputs": [
    {
     "name": "stdout",
     "output_type": "stream",
     "text": [
      "Loading the cnn_dailymail dataset...\n",
      "Found cached dataset cnn_dailymail (/home/ereverter/.cache/huggingface/datasets/cnn_dailymail/3.0.0/3.0.0/1b3c71476f6d152c31c1730e83ccb08bcf23e348233f4fcc11e182248e6bf7de)\n",
      "Getting the summaries with the compression...\n",
      "100%|█████████████████████████████████████████| 100/100 [01:10<00:00,  1.43it/s]\n",
      "Computing the ROUGE scores...\n",
      "ROUGE-1: 0.26727255751607787\n",
      "ROUGE-2: 0.09335021273243681\n",
      "ROUGE-L: 0.1829428013795184\n"
     ]
    }
   ],
   "source": [
    "!python eval.py \\\n",
    "    --subset 100 \\\n",
    "    --device 'cuda' \\\n",
    "    --alpha 1 \\\n",
    "    --beta 1 \\\n",
    "    --gamma 1 \\\n",
    "    --tau 0.95 \\\n",
    "    --method 'compression' \\\n",
    "    --checkpoint 'microsoft/deberta-v3-base' \\\n",
    "    --max_length 512 \\\n",
    "    --embedding_from 'cls' \\\n",
    "    --dataset 'cnn_dailymail' \\\n",
    "    --sum_size 3"
   ]
  }
 ],
 "metadata": {
  "kernelspec": {
   "display_name": "clustsum",
   "language": "python",
   "name": "python3"
  },
  "language_info": {
   "codemirror_mode": {
    "name": "ipython",
    "version": 3
   },
   "file_extension": ".py",
   "mimetype": "text/x-python",
   "name": "python",
   "nbconvert_exporter": "python",
   "pygments_lexer": "ipython3",
   "version": "3.10.12"
  },
  "orig_nbformat": 4
 },
 "nbformat": 4,
 "nbformat_minor": 2
}
