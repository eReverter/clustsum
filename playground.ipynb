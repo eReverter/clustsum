{
 "cells": [
  {
   "cell_type": "code",
   "execution_count": 1,
   "metadata": {},
   "outputs": [],
   "source": [
    "%reload_ext autoreload\n",
    "%autoreload 2"
   ]
  },
  {
   "cell_type": "code",
   "execution_count": 2,
   "metadata": {},
   "outputs": [],
   "source": [
    "import os\n",
    "os.environ['TOKENIZERS_PARALLELISM'] = 'false'"
   ]
  },
  {
   "cell_type": "code",
   "execution_count": 3,
   "metadata": {},
   "outputs": [
    {
     "name": "stderr",
     "output_type": "stream",
     "text": [
      "Some weights of the model checkpoint at bert-base-uncased were not used when initializing BertModel: ['cls.predictions.bias', 'cls.predictions.transform.LayerNorm.bias', 'cls.predictions.transform.dense.bias', 'cls.predictions.decoder.weight', 'cls.seq_relationship.weight', 'cls.seq_relationship.bias', 'cls.predictions.transform.dense.weight', 'cls.predictions.transform.LayerNorm.weight']\n",
      "- This IS expected if you are initializing BertModel from the checkpoint of a model trained on another task or with another architecture (e.g. initializing a BertForSequenceClassification model from a BertForPreTraining model).\n",
      "- This IS NOT expected if you are initializing BertModel from the checkpoint of a model that you expect to be exactly identical (initializing a BertForSequenceClassification model from a BertForSequenceClassification model).\n"
     ]
    }
   ],
   "source": [
    "from transformers import AutoTokenizer, AutoModel\n",
    "from src.config import Configuration\n",
    "from src.clustsum import clustsum\n",
    "    \n",
    "config = Configuration()\n",
    "tokenizer = AutoTokenizer.from_pretrained(config.checkpoint)\n",
    "model = AutoModel.from_pretrained(config.checkpoint)"
   ]
  },
  {
   "cell_type": "code",
   "execution_count": 4,
   "metadata": {},
   "outputs": [],
   "source": [
    "texts = [\n",
    "    \"Wine is an alcoholic drink typically made from fermented grapes. Yeast consumes the sugar in the grapes and converts it to ethanol and carbon dioxide, releasing heat in the process. Different varieties of grapes and strains of yeasts are major factors in different styles of wine. These differences result from the complex interactions between the biochemical development of the grape, the reactions involved in fermentation, the grape's growing environment (terroir), and the wine production process. Many countries enact legal appellations intended to define styles and qualities of wine. These typically restrict the geographical origin and permitted varieties of grapes, as well as other aspects of wine production. Wines can be made by fermentation of other fruit crops such as plum, cherry, pomegranate, blueberry, currant and elderberry.\",\n",
    "    \"An artificial general intelligence (AGI) is a hypothetical type of intelligent agent. If realized, an AGI could learn to accomplish any intellectual task that human beings or animals can perform. Alternatively, AGI has been defined as an autonomous system that surpasses human capabilities in the majority of economically valuable tasks. Creating AGI is a primary goal of some artificial intelligence research and of companies such as OpenAI, DeepMind, and Anthropic. AGI is a common topic in science fiction and futures studies.\",\n",
    "    \"Mill's On Liberty (1859) addresses the nature and limits of the power that can be legitimately exercised by society over the individual. Mill's idea is that only if a democratic society follows the Principle of Liberty can its political and social institutions fulfill their role of shaping national character so that its citizens can realise the permanent interests of people as progressive beings (Rawls, Lectures on the History of Political Philosophy; p 289). Mill states the Principle of Liberty as: 'the sole end for which mankind are warranted, individually or collectively, in interfering with the liberty of action of any of their number, is self-protection'. 'The only purpose for which power can be rightfully exercised over any member of a civilized community, against his will, is to prevent harm to others. His own good, either physical or moral, is not a sufficient warrant.' One way to read Mill's Principle of Liberty as a principle of public reason is to see it excluding certain kinds of reasons from being taken into account in legislation, or in guiding the moral coercion of public opinion. (Rawls, Lectures on the History of Political Philosophy; p. 291). These reasons include those founded in other persons good; reasons of excellence and ideals of human perfection; reasons of dislike or disgust, or of preference. Mill states that 'harms' which may be prevented include acts of omission as well as acts of commission. Thus, failing to rescue a drowning child counts as a harmful act, as does failing to pay taxes, or failing to appear as a witness in court. All such harmful omissions may be regulated, according to Mill. By contrast, it does not count as harming someone if—without force or fraud—the affected individual consents to assume the risk: thus one may permissibly offer unsafe employment to others, provided there is no deception involved. (He does, however, recognise one limit to consent: society should not permit people to sell themselves into slavery.) The question of what counts as a self-regarding action and what actions, whether of omission or commission, constitute harmful actions subject to regulation, continues to exercise interpreters of Mill. He did not consider giving offence to constitute 'harm'; an action could not be restricted because it violated the conventions or morals of a given society.\"\n",
    "]"
   ]
  },
  {
   "cell_type": "markdown",
   "metadata": {},
   "source": [
    "The `return_scores` set to `False`, makes the method directly return the sorted sentences by the score they have obtained:"
   ]
  },
  {
   "cell_type": "code",
   "execution_count": 5,
   "metadata": {},
   "outputs": [
    {
     "data": {
      "text/plain": [
       "[['Wine is an alcoholic drink typically made from fermented grapes',\n",
       "  'Different varieties of grapes and strains of yeasts are major factors in different styles of wine',\n",
       "  'These differences result from the complex interactions between the biochemical development of the grape the reactions involved in fermentation the grape s growing environment terroir and the wine production process',\n",
       "  'Yeast consumes the sugar in the grapes and converts it to ethanol and carbon dioxide releasing heat in the process',\n",
       "  'Many countries enact legal appellations intended to define styles and qualities of wine',\n",
       "  'These typically restrict the geographical origin and permitted varieties of grapes as well as other aspects of wine production',\n",
       "  'Wines can be made by fermentation of other fruit crops such as plum cherry pomegranate blueberry currant and elderberry'],\n",
       " ['An artificial general intelligence AGI is a hypothetical type of intelligent agent',\n",
       "  'If realized an AGI could learn to accomplish any intellectual task that human beings or animals can perform',\n",
       "  'Alternatively AGI has been defined as an autonomous system that surpasses human capabilities in the majority of economically valuable tasks',\n",
       "  'Creating AGI is a primary goal of some artificial intelligence research and of companies such as OpenAI DeepMind and Anthropic',\n",
       "  'AGI is a common topic in science fiction and futures studies'],\n",
       " ['Mill s On Liberty 1859 addresses the nature and limits of the power that can be legitimately exercised by society over the individual',\n",
       "  'Mill states the Principle of Liberty as the sole end for which mankind are warranted individually or collectively in interfering with the liberty of action of any of their number is self protection',\n",
       "  'The only purpose for which power can be rightfully exercised over any member of a civilized community against his will is to prevent harm to others',\n",
       "  'His own good either physical or moral is not a sufficient warrant',\n",
       "  'One way to read Mill s Principle of Liberty as a principle of public reason is to see it excluding certain kinds of reasons from being taken into account in legislation or in guiding the moral coercion of public opinion',\n",
       "  'Mill s idea is that only if a democratic society follows the Principle of Liberty can its political and social institutions fulfill their role of shaping national character so that its citizens can realise the permanent interests of people as progressive beings Rawls Lectures on the History of Political Philosophy p 289',\n",
       "  'Mill states that harms which may be prevented include acts of omission as well as acts of commission',\n",
       "  'He did not consider giving offence to constitute harm an action could not be restricted because it violated the conventions or morals of a given society',\n",
       "  'These reasons include those founded in other persons good reasons of excellence and ideals of human perfection reasons of dislike or disgust or of preference',\n",
       "  'He does however recognise one limit to consent society should not permit people to sell themselves into slavery',\n",
       "  'All such harmful omissions may be regulated according to Mill',\n",
       "  'Thus failing to rescue a drowning child counts as a harmful act as does failing to pay taxes or failing to appear as a witness in court',\n",
       "  'By contrast it does not count as harming someone if without force or fraud the affected individual consents to assume the risk thus one may permissibly offer unsafe employment to others provided there is no deception involved',\n",
       "  'The question of what counts as a self regarding action and what actions whether of omission or commission constitute harmful actions subject to regulation continues to exercise interpreters of Mill',\n",
       "  'Rawls Lectures on the History of Political Philosophy p 291']]"
      ]
     },
     "execution_count": 5,
     "metadata": {},
     "output_type": "execute_result"
    }
   ],
   "source": [
    "clustsum(texts, method='transformer', config=config, tokenizer=tokenizer, model=model, return_scores=False)"
   ]
  },
  {
   "cell_type": "code",
   "execution_count": 6,
   "metadata": {},
   "outputs": [
    {
     "data": {
      "text/plain": [
       "[['Wine is an alcoholic drink typically made from fermented grapes',\n",
       "  'Yeast consumes the sugar in the grapes and converts it to ethanol and carbon dioxide releasing heat in the process',\n",
       "  'Different varieties of grapes and strains of yeasts are major factors in different styles of wine',\n",
       "  'These differences result from the complex interactions between the biochemical development of the grape the reactions involved in fermentation the grape s growing environment terroir and the wine production process',\n",
       "  'Many countries enact legal appellations intended to define styles and qualities of wine',\n",
       "  'These typically restrict the geographical origin and permitted varieties of grapes as well as other aspects of wine production',\n",
       "  'Wines can be made by fermentation of other fruit crops such as plum cherry pomegranate blueberry currant and elderberry'],\n",
       " ['An artificial general intelligence AGI is a hypothetical type of intelligent agent',\n",
       "  'If realized an AGI could learn to accomplish any intellectual task that human beings or animals can perform',\n",
       "  'Alternatively AGI has been defined as an autonomous system that surpasses human capabilities in the majority of economically valuable tasks',\n",
       "  'Creating AGI is a primary goal of some artificial intelligence research and of companies such as OpenAI DeepMind and Anthropic',\n",
       "  'AGI is a common topic in science fiction and futures studies'],\n",
       " ['Mill s On Liberty 1859 addresses the nature and limits of the power that can be legitimately exercised by society over the individual',\n",
       "  'Mill s idea is that only if a democratic society follows the Principle of Liberty can its political and social institutions fulfill their role of shaping national character so that its citizens can realise the permanent interests of people as progressive beings Rawls Lectures on the History of Political Philosophy p 289',\n",
       "  'Mill states the Principle of Liberty as the sole end for which mankind are warranted individually or collectively in interfering with the liberty of action of any of their number is self protection',\n",
       "  'The only purpose for which power can be rightfully exercised over any member of a civilized community against his will is to prevent harm to others',\n",
       "  'One way to read Mill s Principle of Liberty as a principle of public reason is to see it excluding certain kinds of reasons from being taken into account in legislation or in guiding the moral coercion of public opinion',\n",
       "  'These reasons include those founded in other persons good reasons of excellence and ideals of human perfection reasons of dislike or disgust or of preference',\n",
       "  'Mill states that harms which may be prevented include acts of omission as well as acts of commission',\n",
       "  'All such harmful omissions may be regulated according to Mill',\n",
       "  'He does however recognise one limit to consent society should not permit people to sell themselves into slavery',\n",
       "  'He did not consider giving offence to constitute harm an action could not be restricted because it violated the conventions or morals of a given society',\n",
       "  'The question of what counts as a self regarding action and what actions whether of omission or commission constitute harmful actions subject to regulation continues to exercise interpreters of Mill',\n",
       "  'By contrast it does not count as harming someone if without force or fraud the affected individual consents to assume the risk thus one may permissibly offer unsafe employment to others provided there is no deception involved',\n",
       "  'His own good either physical or moral is not a sufficient warrant',\n",
       "  'Rawls Lectures on the History of Political Philosophy p 291',\n",
       "  'Thus failing to rescue a drowning child counts as a harmful act as does failing to pay taxes or failing to appear as a witness in court']]"
      ]
     },
     "execution_count": 6,
     "metadata": {},
     "output_type": "execute_result"
    }
   ],
   "source": [
    "clustsum(texts, method='compression', config=config, return_scores=False)"
   ]
  }
 ],
 "metadata": {
  "kernelspec": {
   "display_name": "clustsum",
   "language": "python",
   "name": "python3"
  },
  "language_info": {
   "codemirror_mode": {
    "name": "ipython",
    "version": 3
   },
   "file_extension": ".py",
   "mimetype": "text/x-python",
   "name": "python",
   "nbconvert_exporter": "python",
   "pygments_lexer": "ipython3",
   "version": "3.10.12"
  },
  "orig_nbformat": 4
 },
 "nbformat": 4,
 "nbformat_minor": 2
}
